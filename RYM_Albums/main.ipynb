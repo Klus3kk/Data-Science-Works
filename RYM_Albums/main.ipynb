{
 "cells": [
  {
   "cell_type": "code",
   "execution_count": 22,
   "metadata": {},
   "outputs": [
    {
     "data": {
      "text/plain": [
       "'3.8.4'"
      ]
     },
     "execution_count": 22,
     "metadata": {},
     "output_type": "execute_result"
    }
   ],
   "source": [
    "import pandas as pd\n",
    "import numpy as np\n",
    "import matplotlib.pyplot as plt \n",
    "import matplotlib as mpl\n",
    "import sys\n",
    "import os\n",
    "import seaborn as sns \n",
    "import ipywidgets as widgets\n",
    "from collections import Counter\n",
    "plt.style.use('seaborn-v0_8-deep')\n",
    "sys.version\n",
    "pd.__version__\n",
    "mpl.__version__\n",
    "# mpl.style.available"
   ]
  },
  {
   "cell_type": "code",
   "execution_count": 23,
   "metadata": {},
   "outputs": [
    {
     "data": {
      "text/html": [
       "<div>\n",
       "<style scoped>\n",
       "    .dataframe tbody tr th:only-of-type {\n",
       "        vertical-align: middle;\n",
       "    }\n",
       "\n",
       "    .dataframe tbody tr th {\n",
       "        vertical-align: top;\n",
       "    }\n",
       "\n",
       "    .dataframe thead th {\n",
       "        text-align: right;\n",
       "    }\n",
       "</style>\n",
       "<table border=\"1\" class=\"dataframe\">\n",
       "  <thead>\n",
       "    <tr style=\"text-align: right;\">\n",
       "      <th></th>\n",
       "      <th>Artist</th>\n",
       "      <th>Release</th>\n",
       "      <th>Rating</th>\n",
       "    </tr>\n",
       "  </thead>\n",
       "  <tbody>\n",
       "    <tr>\n",
       "      <th>0</th>\n",
       "      <td>공중도둑[Mid-Air Thief]</td>\n",
       "      <td>무너지기 (Crumbling)</td>\n",
       "      <td>4.5</td>\n",
       "    </tr>\n",
       "    <tr>\n",
       "      <th>1</th>\n",
       "      <td>¥$</td>\n",
       "      <td>Vultures 2</td>\n",
       "      <td>0.5</td>\n",
       "    </tr>\n",
       "    <tr>\n",
       "      <th>2</th>\n",
       "      <td>100 gecs</td>\n",
       "      <td>1000 gecs</td>\n",
       "      <td>4.0</td>\n",
       "    </tr>\n",
       "    <tr>\n",
       "      <th>3</th>\n",
       "      <td>12 Rods</td>\n",
       "      <td>Split Personalities</td>\n",
       "      <td>3.0</td>\n",
       "    </tr>\n",
       "    <tr>\n",
       "      <th>4</th>\n",
       "      <td>The 13th Floor Elevators</td>\n",
       "      <td>The Psychedelic Sounds of The 13th Floor Eleva...</td>\n",
       "      <td>4.0</td>\n",
       "    </tr>\n",
       "    <tr>\n",
       "      <th>...</th>\n",
       "      <td>...</td>\n",
       "      <td>...</td>\n",
       "      <td>...</td>\n",
       "    </tr>\n",
       "    <tr>\n",
       "      <th>940</th>\n",
       "      <td>Zwidy</td>\n",
       "      <td>Szum</td>\n",
       "      <td>3.0</td>\n",
       "    </tr>\n",
       "    <tr>\n",
       "      <th>941</th>\n",
       "      <td>フィッシュマンズ</td>\n",
       "      <td>空中キャンプ (Something in the Air)</td>\n",
       "      <td>4.0</td>\n",
       "    </tr>\n",
       "    <tr>\n",
       "      <th>942</th>\n",
       "      <td>下村陽子[Yoko Shimomura]</td>\n",
       "      <td>キングダムハーツ II (Kingdom Hearts II)</td>\n",
       "      <td>4.5</td>\n",
       "    </tr>\n",
       "    <tr>\n",
       "      <th>943</th>\n",
       "      <td>椎名林檎[Sheena Ringo]</td>\n",
       "      <td>加爾基 精液 栗ノ花 (Kalk samen kuri no hana)</td>\n",
       "      <td>4.0</td>\n",
       "    </tr>\n",
       "    <tr>\n",
       "      <th>944</th>\n",
       "      <td>Various Artists</td>\n",
       "      <td>The Fire This Time</td>\n",
       "      <td>4.5</td>\n",
       "    </tr>\n",
       "  </tbody>\n",
       "</table>\n",
       "<p>945 rows × 3 columns</p>\n",
       "</div>"
      ],
      "text/plain": [
       "                       Artist  \\\n",
       "0         공중도둑[Mid-Air Thief]   \n",
       "1                          ¥$   \n",
       "2                    100 gecs   \n",
       "3                     12 Rods   \n",
       "4    The 13th Floor Elevators   \n",
       "..                        ...   \n",
       "940                     Zwidy   \n",
       "941                  フィッシュマンズ   \n",
       "942      下村陽子[Yoko Shimomura]   \n",
       "943        椎名林檎[Sheena Ringo]   \n",
       "944           Various Artists   \n",
       "\n",
       "                                               Release  Rating  \n",
       "0                                     무너지기 (Crumbling)     4.5  \n",
       "1                                           Vultures 2     0.5  \n",
       "2                                            1000 gecs     4.0  \n",
       "3                                  Split Personalities     3.0  \n",
       "4    The Psychedelic Sounds of The 13th Floor Eleva...     4.0  \n",
       "..                                                 ...     ...  \n",
       "940                                               Szum     3.0  \n",
       "941                      空中キャンプ (Something in the Air)     4.0  \n",
       "942                    キングダムハーツ II (Kingdom Hearts II)     4.5  \n",
       "943               加爾基 精液 栗ノ花 (Kalk samen kuri no hana)     4.0  \n",
       "944                                 The Fire This Time     4.5  \n",
       "\n",
       "[945 rows x 3 columns]"
      ]
     },
     "execution_count": 23,
     "metadata": {},
     "output_type": "execute_result"
    }
   ],
   "source": [
    "data = pd.read_csv(\"music_data.csv\")\n",
    "data"
   ]
  },
  {
   "cell_type": "code",
   "execution_count": 24,
   "metadata": {},
   "outputs": [
    {
     "name": "stdout",
     "output_type": "stream",
     "text": [
      "<class 'pandas.core.frame.DataFrame'>\n",
      "RangeIndex: 945 entries, 0 to 944\n",
      "Data columns (total 3 columns):\n",
      " #   Column   Non-Null Count  Dtype  \n",
      "---  ------   --------------  -----  \n",
      " 0   Artist   945 non-null    object \n",
      " 1   Release  945 non-null    object \n",
      " 2   Rating   945 non-null    float64\n",
      "dtypes: float64(1), object(2)\n",
      "memory usage: 22.3+ KB\n",
      "None\n"
     ]
    }
   ],
   "source": [
    "print(data.info())"
   ]
  },
  {
   "cell_type": "code",
   "execution_count": 25,
   "metadata": {},
   "outputs": [
    {
     "data": {
      "text/plain": [
       "Artist\n",
       "Pink Floyd         15\n",
       "The Beatles        13\n",
       "King Crimson       13\n",
       "Myslovitz          11\n",
       "Radiohead          11\n",
       "                   ..\n",
       "Hatifnats           1\n",
       "GUM                 1\n",
       "Grizzly Bear        1\n",
       "Green Day           1\n",
       "Various Artists     1\n",
       "Name: count, Length: 522, dtype: int64"
      ]
     },
     "execution_count": 25,
     "metadata": {},
     "output_type": "execute_result"
    }
   ],
   "source": [
    "artist_album_count = data['Artist'].value_counts()\n",
    "artist_album_count"
   ]
  },
  {
   "cell_type": "code",
   "execution_count": 26,
   "metadata": {},
   "outputs": [
    {
     "data": {
      "text/plain": [
       "Artist\n",
       "Klaus Mitffoch                          5.000000\n",
       "KIDS SEE GHOSTS                         5.000000\n",
       "Mingus                                  5.000000\n",
       "Prince and The Revolution               5.000000\n",
       "The Avalanches                          5.000000\n",
       "Lenny Valentino                         5.000000\n",
       "Cyndi Lauper                            5.000000\n",
       "Neutral Milk Hotel                      5.000000\n",
       "Kaśka Sochacka                          4.750000\n",
       "Joy Division                            4.750000\n",
       "The Jimi Hendrix Experience             4.666667\n",
       "Portishead                              4.625000\n",
       "Kombajn do Zbierania Kur po Wioskach    4.600000\n",
       "Television                              4.500000\n",
       "The Cure                                4.500000\n",
       "Joni Mitchell                           4.500000\n",
       "John Williams                           4.500000\n",
       "Love                                    4.500000\n",
       "Black Country, New Road                 4.500000\n",
       "Deltron 3030                            4.500000\n",
       "Name: Rating, dtype: float64"
      ]
     },
     "execution_count": 26,
     "metadata": {},
     "output_type": "execute_result"
    }
   ],
   "source": [
    "rated_artists = data.groupby('Artist')['Rating'].mean().sort_values(ascending=False).head(20)\n",
    "rated_artists"
   ]
  },
  {
   "cell_type": "code",
   "execution_count": 27,
   "metadata": {},
   "outputs": [
    {
     "data": {
      "text/plain": [
       "Artist\n",
       "Joy Division                            4.750000\n",
       "Kaśka Sochacka                          4.750000\n",
       "The Jimi Hendrix Experience             4.666667\n",
       "Portishead                              4.625000\n",
       "Kombajn do Zbierania Kur po Wioskach    4.600000\n",
       "C418                                    4.500000\n",
       "The Cure                                4.500000\n",
       "Sweet Trip                              4.500000\n",
       "Black Country, New Road                 4.500000\n",
       "Nirvana                                 4.500000\n",
       "Toby Fox                                4.500000\n",
       "Marek Grechuta                          4.500000\n",
       "Weyes Blood                             4.500000\n",
       "Gorillaz                                4.500000\n",
       "Amy Winehouse                           4.500000\n",
       "John Williams                           4.500000\n",
       "Kraftwerk                               4.500000\n",
       "The Beatles                             4.423077\n",
       "My Bloody Valentine                     4.416667\n",
       "Daria Zawiałow                          4.375000\n",
       "Name: Rating, dtype: float64"
      ]
     },
     "execution_count": 27,
     "metadata": {},
     "output_type": "execute_result"
    }
   ],
   "source": [
    "artists_with_two_or_more_albums = artist_album_count[artist_album_count >= 2].index\n",
    "filtered_data = data[data['Artist'].isin(artists_with_two_or_more_albums)]\n",
    "rated_artists = filtered_data.groupby('Artist')['Rating'].mean().sort_values(ascending=False).head(20)\n",
    "rated_artists"
   ]
  },
  {
   "cell_type": "code",
   "execution_count": null,
   "metadata": {},
   "outputs": [],
   "source": []
  }
 ],
 "metadata": {
  "kernelspec": {
   "display_name": "Python 3",
   "language": "python",
   "name": "python3"
  },
  "language_info": {
   "codemirror_mode": {
    "name": "ipython",
    "version": 3
   },
   "file_extension": ".py",
   "mimetype": "text/x-python",
   "name": "python",
   "nbconvert_exporter": "python",
   "pygments_lexer": "ipython3",
   "version": "3.12.0"
  }
 },
 "nbformat": 4,
 "nbformat_minor": 2
}
