{
 "cells": [
  {
   "cell_type": "code",
   "execution_count": 2,
   "metadata": {},
   "outputs": [
    {
     "data": {
      "text/plain": [
       "'3.8.4'"
      ]
     },
     "execution_count": 2,
     "metadata": {},
     "output_type": "execute_result"
    }
   ],
   "source": [
    "import pandas as pd\n",
    "import numpy as np\n",
    "import matplotlib.pyplot as plt \n",
    "import matplotlib as mpl\n",
    "import sys\n",
    "sys.version\n",
    "pd.__version__\n",
    "mpl.__version__"
   ]
  },
  {
   "cell_type": "code",
   "execution_count": 9,
   "metadata": {},
   "outputs": [
    {
     "name": "stdout",
     "output_type": "stream",
     "text": [
      "NZHSC_Level_2_Code_HS4,NZHSC_Level_1_Code_HS2,NZHSC_Level_2,NZHSC_Level_1,Status_HS4\n",
      "\n",
      "0101,01,\"Horses, asses, mules and hinnies; live\",Animals; live,Current\n",
      "\n"
     ]
    }
   ],
   "source": [
    "with open('data.csv', 'r') as dt:\n",
    "    print(dt.readline()) # headers\n",
    "    print(dt.readline()) # first row"
   ]
  },
  {
   "cell_type": "code",
   "execution_count": 11,
   "metadata": {},
   "outputs": [
    {
     "name": "stderr",
     "output_type": "stream",
     "text": [
      "C:\\Users\\lukas\\AppData\\Local\\Temp\\ipykernel_16036\\388743605.py:1: UserWarning: Could not infer format, so each element will be parsed individually, falling back to `dateutil`. To ensure parsing is consistent and as-expected, please specify a format.\n",
      "  data = pd.read_csv('data.csv',\n"
     ]
    },
    {
     "data": {
      "text/html": [
       "<div>\n",
       "<style scoped>\n",
       "    .dataframe tbody tr th:only-of-type {\n",
       "        vertical-align: middle;\n",
       "    }\n",
       "\n",
       "    .dataframe tbody tr th {\n",
       "        vertical-align: top;\n",
       "    }\n",
       "\n",
       "    .dataframe thead th {\n",
       "        text-align: right;\n",
       "    }\n",
       "</style>\n",
       "<table border=\"1\" class=\"dataframe\">\n",
       "  <thead>\n",
       "    <tr style=\"text-align: right;\">\n",
       "      <th></th>\n",
       "      <th>NZHSC_Level_2</th>\n",
       "      <th>NZHSC_Level_1</th>\n",
       "      <th>Status_HS4</th>\n",
       "    </tr>\n",
       "    <tr>\n",
       "      <th>Trades</th>\n",
       "      <th></th>\n",
       "      <th></th>\n",
       "      <th></th>\n",
       "    </tr>\n",
       "  </thead>\n",
       "  <tbody>\n",
       "    <tr>\n",
       "      <th>0101 01</th>\n",
       "      <td>Horses, asses, mules and hinnies; live</td>\n",
       "      <td>Animals; live</td>\n",
       "      <td>Current</td>\n",
       "    </tr>\n",
       "    <tr>\n",
       "      <th>0102 01</th>\n",
       "      <td>Bovine animals; live</td>\n",
       "      <td>Animals; live</td>\n",
       "      <td>Current</td>\n",
       "    </tr>\n",
       "    <tr>\n",
       "      <th>0103 01</th>\n",
       "      <td>Swine; live</td>\n",
       "      <td>Animals; live</td>\n",
       "      <td>Current</td>\n",
       "    </tr>\n",
       "    <tr>\n",
       "      <th>0104 01</th>\n",
       "      <td>Sheep and goats; live</td>\n",
       "      <td>Animals; live</td>\n",
       "      <td>Current</td>\n",
       "    </tr>\n",
       "    <tr>\n",
       "      <th>0105 01</th>\n",
       "      <td>Poultry; live, fowls of the species Gallus dom...</td>\n",
       "      <td>Animals; live</td>\n",
       "      <td>Current</td>\n",
       "    </tr>\n",
       "    <tr>\n",
       "      <th>...</th>\n",
       "      <td>...</td>\n",
       "      <td>...</td>\n",
       "      <td>...</td>\n",
       "    </tr>\n",
       "    <tr>\n",
       "      <th>9808 98</th>\n",
       "      <td>Ships stores</td>\n",
       "      <td>New Zealand miscellaneous provisions</td>\n",
       "      <td>Current</td>\n",
       "    </tr>\n",
       "    <tr>\n",
       "      <th>9809 98</th>\n",
       "      <td>Confidential items</td>\n",
       "      <td>New Zealand miscellaneous provisions</td>\n",
       "      <td>Current</td>\n",
       "    </tr>\n",
       "    <tr>\n",
       "      <th>9999 99</th>\n",
       "      <td>Non-merchandise trade</td>\n",
       "      <td>Non-merchandise trade</td>\n",
       "      <td>Current</td>\n",
       "    </tr>\n",
       "    <tr>\n",
       "      <th>nan XX</th>\n",
       "      <td>NaN</td>\n",
       "      <td>Total goods</td>\n",
       "      <td>Current</td>\n",
       "    </tr>\n",
       "    <tr>\n",
       "      <th>nan 00</th>\n",
       "      <td>NaN</td>\n",
       "      <td>Total goods - country</td>\n",
       "      <td>Current</td>\n",
       "    </tr>\n",
       "  </tbody>\n",
       "</table>\n",
       "<p>1242 rows × 3 columns</p>\n",
       "</div>"
      ],
      "text/plain": [
       "                                             NZHSC_Level_2  \\\n",
       "Trades                                                       \n",
       "0101 01             Horses, asses, mules and hinnies; live   \n",
       "0102 01                               Bovine animals; live   \n",
       "0103 01                                        Swine; live   \n",
       "0104 01                              Sheep and goats; live   \n",
       "0105 01  Poultry; live, fowls of the species Gallus dom...   \n",
       "...                                                    ...   \n",
       "9808 98                                       Ships stores   \n",
       "9809 98                                 Confidential items   \n",
       "9999 99                              Non-merchandise trade   \n",
       "nan XX                                                 NaN   \n",
       "nan 00                                                 NaN   \n",
       "\n",
       "                                NZHSC_Level_1 Status_HS4  \n",
       "Trades                                                    \n",
       "0101 01                         Animals; live    Current  \n",
       "0102 01                         Animals; live    Current  \n",
       "0103 01                         Animals; live    Current  \n",
       "0104 01                         Animals; live    Current  \n",
       "0105 01                         Animals; live    Current  \n",
       "...                                       ...        ...  \n",
       "9808 98  New Zealand miscellaneous provisions    Current  \n",
       "9809 98  New Zealand miscellaneous provisions    Current  \n",
       "9999 99                 Non-merchandise trade    Current  \n",
       "nan XX                            Total goods    Current  \n",
       "nan 00                  Total goods - country    Current  \n",
       "\n",
       "[1242 rows x 3 columns]"
      ]
     },
     "execution_count": 11,
     "metadata": {},
     "output_type": "execute_result"
    }
   ],
   "source": [
    "data = pd.read_csv('data.csv',\n",
    "                   parse_dates={'Trades': ['NZHSC_Level_2_Code_HS4','NZHSC_Level_1_Code_HS2']},\n",
    "                   index_col='Trades')\n",
    "data"
   ]
  },
  {
   "cell_type": "code",
   "execution_count": null,
   "metadata": {},
   "outputs": [],
   "source": []
  }
 ],
 "metadata": {
  "kernelspec": {
   "display_name": "Python 3",
   "language": "python",
   "name": "python3"
  },
  "language_info": {
   "codemirror_mode": {
    "name": "ipython",
    "version": 3
   },
   "file_extension": ".py",
   "mimetype": "text/x-python",
   "name": "python",
   "nbconvert_exporter": "python",
   "pygments_lexer": "ipython3",
   "version": "3.12.4"
  }
 },
 "nbformat": 4,
 "nbformat_minor": 2
}
