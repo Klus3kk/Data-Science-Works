{
 "cells": [
  {
   "cell_type": "code",
   "execution_count": 7,
   "metadata": {},
   "outputs": [
    {
     "data": {
      "text/plain": [
       "'3.8.4'"
      ]
     },
     "execution_count": 7,
     "metadata": {},
     "output_type": "execute_result"
    }
   ],
   "source": [
    "import pandas as pd\n",
    "import numpy as np\n",
    "import matplotlib.pyplot as plt \n",
    "import matplotlib as mpl\n",
    "import sys\n",
    "sys.version\n",
    "pd.__version__\n",
    "mpl.__version__"
   ]
  },
  {
   "cell_type": "code",
   "execution_count": 9,
   "metadata": {},
   "outputs": [
    {
     "name": "stdout",
     "output_type": "stream",
     "text": [
      "NZHSC_Level_2_Code_HS4,NZHSC_Level_1_Code_HS2,NZHSC_Level_2,NZHSC_Level_1,Status_HS4\n",
      "\n",
      "0101,01,\"Horses, asses, mules and hinnies; live\",Animals; live,Current\n",
      "\n"
     ]
    }
   ],
   "source": [
    "with open('data.csv', 'r') as dt:\n",
    "    print(dt.readline()) # headers\n",
    "    print(dt.readline()) # first row"
   ]
  },
  {
   "cell_type": "code",
   "execution_count": 10,
   "metadata": {},
   "outputs": [
    {
     "name": "stderr",
     "output_type": "stream",
     "text": [
      "C:\\Users\\lukas\\AppData\\Local\\Temp\\ipykernel_16036\\2857066072.py:1: UserWarning: Could not infer format, so each element will be parsed individually, falling back to `dateutil`. To ensure parsing is consistent and as-expected, please specify a format.\n",
      "  data = pd.read_csv('data.csv',\n"
     ]
    }
   ],
   "source": [
    "data = pd.read_csv('data.csv',\n",
    "                   parse_dates={'Trades': ['NZHSC_Level_2_Code_HS4','NZHSC_Level_1_Code_HS2']},\n",
    "                   index_col='Trades')"
   ]
  }
 ],
 "metadata": {
  "kernelspec": {
   "display_name": "Python 3",
   "language": "python",
   "name": "python3"
  },
  "language_info": {
   "codemirror_mode": {
    "name": "ipython",
    "version": 3
   },
   "file_extension": ".py",
   "mimetype": "text/x-python",
   "name": "python",
   "nbconvert_exporter": "python",
   "pygments_lexer": "ipython3",
   "version": "3.12.0"
  }
 },
 "nbformat": 4,
 "nbformat_minor": 2
}
